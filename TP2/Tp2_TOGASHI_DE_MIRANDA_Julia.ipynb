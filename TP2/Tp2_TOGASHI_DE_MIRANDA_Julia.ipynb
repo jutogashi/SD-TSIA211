{
 "cells": [
  {
   "cell_type": "markdown",
   "metadata": {},
   "source": [
    "# TP2 - SD-TSIA211\n",
    "## Júlia Togashi de Miranda/ Gabriel Medeiros"
   ]
  },
  {
   "cell_type": "code",
   "execution_count": 1,
   "metadata": {},
   "outputs": [],
   "source": [
    "import numpy as np\n",
    "import matplotlib.pyplot as plt\n",
    "import scipy.stats as st\n",
    "import pandas as pd"
   ]
  },
  {
   "cell_type": "code",
   "execution_count": 2,
   "metadata": {},
   "outputs": [],
   "source": [
    "def load_breastcancer(filename):\n",
    "    \"\"\"\n",
    "    Cette fonction lit le fichier filename, par exemple\n",
    "    filename = 'wdbc_M1_B0.data'\n",
    "    Elle retourne \n",
    "    X : une matrice de caracteristiques\n",
    "    y : un vecteur des classes tel que si y[i] = 1, la tumeur est maligne\n",
    "        et si y[i] = -1, la tumeur est benigne\n",
    "\n",
    "    Pour plus d'infos sur la base de donnees,\n",
    "    https://archive.ics.uci.edu/ml/datasets/Breast+Cancer+Wisconsin+%28Prognostic%29\n",
    "    \"\"\"\n",
    "\n",
    "    data = np.loadtxt(filename, delimiter=',')\n",
    "\n",
    "    # la colonne 0 ne nous interesse pas ici\n",
    "    y = data[:, 1] * 2 - 1\n",
    "    X = data[:, 2:]\n",
    "\n",
    "    # Standardisation de la matrice\n",
    "    X = X - np.mean(X, axis=0)\n",
    "    X = X / np.std(X, axis=0)\n",
    "\n",
    "    return X, y\n"
   ]
  },
  {
   "cell_type": "code",
   "execution_count": 3,
   "metadata": {},
   "outputs": [],
   "source": [
    "X, y = load_breastcancer('wdbc_M1_B0.data.txt')"
   ]
  },
  {
   "cell_type": "markdown",
   "metadata": {},
   "source": [
    "## Notation\n",
    "$$y_i \\in \\mathbb{R}, Y = [y_1, ..., y_n]^T \\in \\mathbb{R}^n$$\n",
    "\n",
    "$$v \\in \\mathbb{R}^m$$\n",
    "\n",
    "$$x_i \\in \\mathbb{R}^m, X = [x_1^T, ..., x_n^T]^T \\in \\mathbb{R}^{(n,m)}$$\n",
    "\n",
    "Therefore: \n",
    "\n",
    "$$x_i^Tv \\in \\mathbb{R}, Xv \\in \\mathbb{R}^n$$"
   ]
  },
  {
   "cell_type": "markdown",
   "metadata": {},
   "source": [
    "## 2.1\n",
    "\n",
    "Considering the optimization problem is:\n",
    "$$ min \\frac{1}{2} \\sum_{j=1}^{m}v_j^2 + c \\sum_{i=1}^{n}\\xi_j$$\n",
    "\n",
    "where, $\\forall i \\in \\{1, ..., n\\}$:\n",
    "\n",
    "$$ \\xi \\geq 0$$\n",
    "$$ \\xi \\geq 1- y_i(x_i^Tv+a)$$\n",
    "\n",
    "Because of the constraints, $\\xi_i$ has a minimum value, which would be the smallest possible value for which both constraints are satisfied. Which is obtained by $max(0, 1- y_i(x_i^Tv+a))$. Since the original function asks to be minimized, it would be equivalent to:\n",
    "$$ min \\frac{1}{2} \\sum_{j=1}^{m}v_j^2 + c \\sum_{i=1}^{n}max(0, 1- y_i(x_i^Tv+a))$$"
   ]
  },
  {
   "cell_type": "markdown",
   "metadata": {},
   "source": [
    "## 2.2\n",
    "Defining $h(z) = max(0, 1-z)$ the resulting plot is:"
   ]
  },
  {
   "cell_type": "code",
   "execution_count": 4,
   "metadata": {},
   "outputs": [
    {
     "data": {
      "image/png": "[encoded data removed]",
      "text/plain": [
       "<Figure size 1080x432 with 1 Axes>"
      ]
     },
     "metadata": {
      "needs_background": "light"
     },
     "output_type": "display_data"
    }
   ],
   "source": [
    "def h(z):\n",
    "    return np.maximum(0,1-z)\n",
    "\n",
    "Z= np.arange(-100,100,0.001)\n",
    "H=[]\n",
    "for i in Z:\n",
    "    H.append(h(i))\n",
    "\n",
    "plt.figure(figsize=(15, 6))\n",
    "plt.plot(Z,H)\n",
    "plt.title('Plot of h(z)')\n",
    "plt.ylabel(\"z\")\n",
    "plt.xlabel(\"h(z)\")\n",
    "plt.show()"
   ]
  },
  {
   "cell_type": "markdown",
   "metadata": {},
   "source": [
    "From the figure above it is possible to see that between $[-100, 0]$ the slope is -1, also from $[0, 100]$ the slope is null, so it's derivate is equal to zero. Therefore, on the its slope is contained in $[0, 1]$. \n"
   ]
  },
  {
   "cell_type": "markdown",
   "metadata": {},
   "source": [
    "## 2.3\n",
    "\n",
    "The function $f(v,a)=\\frac{1}{2}\\sum_{j=1}^{m}v_j^2+c\\sum_{i=1}^{n}max(0,1-y_i(x_i^Tv+a))$, can be split into two functions $f(v,a) = N(v,a) + cH(M(v,a))$, as the following:\n",
    "\n",
    "$$N(v,a) = \\frac{1}{2}\\sum_{j=1}^{m}v_j^2 $$\n",
    "And:\n",
    "$$H(M(v,a))= \\sum_{i=1}^{n}max(0,1-y_i(x_i^Tv+a)) = \\sum_{i=1}^{n}max(0,1-M(v, a))$$\n",
    "\n",
    "Considering the transformation M:\n",
    "\n",
    "$$M(v,a) =diag(y)(Xv+a), M(v, a) \\in \\mathbb{R}^n$$\n",
    "\n",
    "Therefore M:\n",
    "\n",
    "$$M = Diag(y)[X, \\mathbb{1}]$$\n",
    "\n",
    "Using preposition 2.4.2, the sub-gradient of f can de defined as:\n",
    "\n",
    "$$\\partial f(v,a)=\\partial N(v,a) +cM^T\\partial H(M(v,a))$$\n",
    "\n",
    "Where:\n",
    "\n",
    "$$\\partial N(v,a) = \\sum_{j=1}^{m}v_j, \\partial N(v,a) \\in \\mathbb{R} $$\n",
    "\n",
    "And $ \\partial H(M(v,a)) $ is equal to the sub-gradient of h(z) in question 2.2, thus \n",
    "$\\partial H_i(M(v,a)) = \\begin{cases} \n",
    "      \\{-1\\} &, M_i(v,a) < 1 \\\\\n",
    "      \\{0\\} &, M_i(v,a) > 1 \\\\\n",
    "      [-1,0] &, M_i(v,a) = 1\n",
    "\\end{cases}$\n",
    "\n",
    "To conclude:\n",
    "\n",
    "$$\\partial f(v,a)=\\partial N(v,a) +cM^T\\partial H(M(v,a))$$\n",
    "\n",
    "Where:\n",
    "\n",
    "$$\\partial f_i(v,a) = \\begin{cases} \n",
    "      \\partial N_i(v,a) - cM^T & ,M_i(v,a) < 1 \\\\\n",
    "      \\partial N_i(v,a) & ,M_i(v,a) > 1 \\\\\n",
    "      \\partial N_i(v,a) + [- cM^T, 0] & ,M_i(v,a) = 1\n",
    "\\end{cases}$$\n"
   ]
  },
  {
   "cell_type": "markdown",
   "metadata": {},
   "source": [
    "## 2.4"
   ]
  },
  {
   "cell_type": "code",
   "execution_count": 5,
   "metadata": {},
   "outputs": [],
   "source": [
    "def f(v, a, c, X, y):\n",
    "    #finding N(v, a)\n",
    "    N = np.sum(v[:]**2)/2 \n",
    "    \n",
    "    #finding H(v, a)\n",
    "    H = 0\n",
    "    for i in range(len(y)):\n",
    "        z = y[i]*(X[i]@v+a)\n",
    "        H = H + max(0, 1-z)\n",
    "    H = H*c\n",
    "    \n",
    "    return N + H"
   ]
  },
  {
   "cell_type": "code",
   "execution_count": 6,
   "metadata": {},
   "outputs": [],
   "source": [
    "def par(va, c, M):\n",
    "    #dN alters the value to be added to each v but not to a, therefore its va but without a\n",
    "    dN = va\n",
    "    dN[-1]=0\n",
    "    \n",
    "    #According to 2.3:\n",
    "    #if M@va is bigger than 1 then its supposed to be zero. If its smaller than 1 then its supposed to be -1\n",
    "    #The resulting matrix gets multiplied by M.T\n",
    "    dH = (M@va>=1)- 1\n",
    "    dH = M.T@dH\n",
    "    \n",
    "    return dN + c*dH"
   ]
  },
  {
   "cell_type": "markdown",
   "metadata": {},
   "source": [
    "## 2.5\n"
   ]
  },
  {
   "cell_type": "code",
   "execution_count": 9,
   "metadata": {},
   "outputs": [],
   "source": [
    "def grad_desc(a, v):\n",
    "    k=0\n",
    "    c=1\n",
    "    M = np.diag(y)@np.concatenate([X, np.ones((np.shape(X)[0],1))], axis = 1)\n",
    "    va = np.concatenate([v, [a]])\n",
    "    for k in range(10000):\n",
    "        gam = 1/(k+1)\n",
    "        va = va - gam*par(va, c, M)\n",
    "    return va"
   ]
  },
  {
   "cell_type": "code",
   "execution_count": 10,
   "metadata": {},
   "outputs": [],
   "source": [
    "va = grad_desc(0, np.zeros(np.shape(X)[1]))"
   ]
  },
  {
   "cell_type": "code",
   "execution_count": 11,
   "metadata": {},
   "outputs": [
    {
     "name": "stdout",
     "output_type": "stream",
     "text": [
      "The minimizing point obtained was: 26.546\n"
     ]
    }
   ],
   "source": [
    "print(f'The minimizing point obtained was: {f(va[:-1], va[-1], 1, X, y):.3f}')"
   ]
  },
  {
   "cell_type": "markdown",
   "metadata": {},
   "source": [
    "## 3.1\n",
    "\n",
    "Let I be a random uniform variable {1,...,n}, therefore, it can be proved that: $f(v,a) = \\mathbb{E}[f_I(v,a)] $ as follows: \n",
    "\n",
    "$$\\mathbb{E}[f_I(v,a)] = \\sum_{i=1}^n \\mathbb{P}(I = i)f_i(v,a)$$\n",
    "\n",
    "As I follows a uniform law:\n",
    "\n",
    "$$\\mathbb{E}(f_I(v,a)) = \\frac{1}{n} \\sum_{i=1}^n f_i(v,a)$$\n",
    "\n",
    "Where:\n",
    "\n",
    "$$f_i(v,a) = \\frac{1}{2}\\sum_{j=1}^m v_j^2 + cn \\max(0,1-y_i(x_i^Tv+a)$$\n",
    "\n",
    "So:\n",
    "\n",
    "$$\\mathbb{E}(f_I(v,a)) = \\frac{1}{n} \\sum_{i=1}^n \\left(\\frac{1}{2}\\sum_{j=1}^m v_j^2 + cn \\max(0,1-y_i(x_i^Tv+a) \\right)$$\n",
    "\n",
    "$$\\mathbb{E}(f_I(v,a)) = \\frac{1}{2} \\sum_{j=1}^m v_j^2 + \\frac{1}{n}\\sum_{i=1}^n cn \\max(0,1-y_i(x_i^Tv + a))$$\n",
    "\n",
    "$$\\mathbb{E}(f_I(v,a)) = \\frac{1}{2} \\sum_{j=1}^m v_j^2 + c \\sum_{i=1}^n max(0,1-y_i(x_i^Tv + a))$$\n",
    "\n",
    "Proving that:\n",
    "\n",
    "$$\\mathbb{E}(f_I(v,a)) = f(v,a)$$"
   ]
  },
  {
   "cell_type": "markdown",
   "metadata": {},
   "source": [
    "## 3.2\n",
    "\n",
    "Given the M matrix defined in question 2.3, the $i^{th}$ line of the matrix M(v,a) is: $ M_i(v,a)=y_i(x_i^Tv+a) $\n",
    "\n",
    "$f_i(v,a)$ can be decomposed similary to $f(v,a)$ as follows:\n",
    "\n",
    "$$f_i(v,a) = N(v,a) + cn H(M_i(v,a))$$\n",
    "\n",
    "Where:\n",
    "\n",
    "$$N(v,a) = \\frac{1}{2}\\sum_{j=1}^m v_j^2 $$\n",
    "\n",
    "$$H(z) = \\max(0,1-z)$$\n",
    "\n",
    "Again, using preposition 2.4.2, the sub-gradient of f can de defined as:\n",
    "\n",
    "$$\\partial f(v,a)=\\partial N(v,a) +cnM_i^T\\partial H(M_i(v,a))$$\n",
    "\n",
    "therefore, the subdiferential with respect to v:\n",
    "\n",
    "$$\\frac{\\partial f_i(v,a)}{\\partial v}= \\begin{cases} \n",
    "      v - cn(m_i)_{0} &, M_i(v,a) < 1 \\\\\n",
    "      v &, M_i(v,a) > 1 \\\\\n",
    "      [v - cn(m_i)_{0},v] &, M_i(v,a) = 1\n",
    "\\end{cases}$$\n",
    "\n",
    "\n",
    "And the subdiferential with respect to a:\n",
    "\n",
    "$$\\frac{\\partial f_i(v,a)}{\\partial a}= \\begin{cases} \n",
    "      -cn(m_i)_{1}&, M_i(v,a) < 1 \\\\\n",
    "      0 &, M_i(v,a) > 1 \\\\\n",
    "      [-cn(m_i)_{1},0] &, M_i(v,a) = 1\n",
    "\\end{cases}$$\n"
   ]
  },
  {
   "cell_type": "markdown",
   "metadata": {},
   "source": [
    "## 3.3\n",
    "\n",
    "The objective is to compute the stochastic subgradient method in order to solve Problem (2).\n",
    "\n",
    "The stochastic gradient method has been designed to solve the optimization problem:\n",
    "\n",
    "$$\\min_{x \\in X} \\mathbb{E}(f(x,\\xi))$$\n",
    "\n",
    "As $f(v,a) = \\mathbb{E}[f_I(v,a)]$ , we can solve Problem (2) by solving the stochastic gradient method in $\\mathbb{E} [f_I(v,a)]$\n",
    "\n",
    "At first, the functions to compute the subgradien of $f_i(a,b)$:"
   ]
  },
  {
   "cell_type": "code",
   "execution_count": 13,
   "metadata": {},
   "outputs": [],
   "source": [
    "def subgrad_f_i(v, a, c, x, y):  \n",
    "    # Here y should be a scalar, equal to the i_th entry of vector Y belonging R^n.\n",
    "    # x should be a vector belonging to R^m, equal to the i_th entry of matrix X belonging to R^nxm\n",
    "    \n",
    "    # This functuion computes the value of the subgradient function for one sigle observation i.\n",
    "    gradv = v\n",
    "    grada = 0\n",
    "    \n",
    "    if y*(x@v+a) < 1:\n",
    "        gradv = gradv - c* X.shape[0]* y*x\n",
    "        grada = grada - c* X.shape[0]* y\n",
    "    return  gradv,grada"
   ]
  },
  {
   "cell_type": "markdown",
   "metadata": {},
   "source": [
    "Now for the stochastic subgradient method :"
   ]
  },
  {
   "cell_type": "code",
   "execution_count": 18,
   "metadata": {},
   "outputs": [],
   "source": [
    "def stoch(a, v):\n",
    "    gam_sum=0\n",
    "    va_sum= np.zeros(np.shape(X)[1]+1)\n",
    "    va = np.concatenate([v, [a]])\n",
    "    \n",
    "    for i in range(100000):\n",
    "        \n",
    "        gam = 1/(i+1)\n",
    "        k = np.random.randint(y.size)\n",
    "        \n",
    "        vn, an = subgrad_f_i(va[:-1], va[-1], 1, X[k], y[k])\n",
    "        va = va - gam * np.concatenate([vn, [an]])\n",
    "\n",
    "    return va"
   ]
  },
  {
   "cell_type": "code",
   "execution_count": 19,
   "metadata": {},
   "outputs": [
    {
     "name": "stdout",
     "output_type": "stream",
     "text": [
      "The minimizing point obtained was: 29.104\n"
     ]
    }
   ],
   "source": [
    "va =stoch(0.0, np.zeros(np.shape(X)[1]))\n",
    "print(f'The minimizing point obtained was: {f(va[:-1], va[-1], 1, X, y):.3f}')"
   ]
  },
  {
   "cell_type": "code",
   "execution_count": null,
   "metadata": {},
   "outputs": [],
   "source": []
  }
 ],
 "metadata": {
  "kernelspec": {
   "display_name": "Python 3",
   "language": "python",
   "name": "python3"
  },
  "language_info": {
   "codemirror_mode": {
    "name": "ipython",
    "version": 3
   },
   "file_extension": ".py",
   "mimetype": "text/x-python",
   "name": "python",
   "nbconvert_exporter": "python",
   "pygments_lexer": "ipython3",
   "version": "3.7.3"
  }
 },
 "nbformat": 4,
 "nbformat_minor": 4
}
